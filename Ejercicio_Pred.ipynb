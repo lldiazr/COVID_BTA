{
 "cells": [
  {
   "cell_type": "code",
   "execution_count": 1,
   "metadata": {
    "scrolled": false
   },
   "outputs": [
    {
     "data": {
      "text/html": [
       "<div>\n",
       "<style scoped>\n",
       "    .dataframe tbody tr th:only-of-type {\n",
       "        vertical-align: middle;\n",
       "    }\n",
       "\n",
       "    .dataframe tbody tr th {\n",
       "        vertical-align: top;\n",
       "    }\n",
       "\n",
       "    .dataframe thead th {\n",
       "        text-align: right;\n",
       "    }\n",
       "</style>\n",
       "<table border=\"1\" class=\"dataframe\">\n",
       "  <thead>\n",
       "    <tr style=\"text-align: right;\">\n",
       "      <th></th>\n",
       "      <th>ID</th>\n",
       "      <th>Fecha de Inicio de Síntomas</th>\n",
       "      <th>Fecha de diagnóstico</th>\n",
       "      <th>Ciudad de residencia</th>\n",
       "      <th>Localidad de residencia</th>\n",
       "      <th>Edad</th>\n",
       "      <th>Unidad de medida de la edad</th>\n",
       "      <th>Sexo</th>\n",
       "      <th>Tipo de caso</th>\n",
       "      <th>Ubicación</th>\n",
       "      <th>Estado</th>\n",
       "    </tr>\n",
       "  </thead>\n",
       "  <tbody>\n",
       "    <tr>\n",
       "      <td>0</td>\n",
       "      <td>1</td>\n",
       "      <td>2020-02-26</td>\n",
       "      <td>2020-03-06</td>\n",
       "      <td>Bogotá</td>\n",
       "      <td>Usaquén</td>\n",
       "      <td>19</td>\n",
       "      <td>1</td>\n",
       "      <td>F</td>\n",
       "      <td>Importado</td>\n",
       "      <td>Casa</td>\n",
       "      <td>Recuperado</td>\n",
       "    </tr>\n",
       "    <tr>\n",
       "      <td>1</td>\n",
       "      <td>2</td>\n",
       "      <td>2020-03-04</td>\n",
       "      <td>2020-03-10</td>\n",
       "      <td>Bogotá</td>\n",
       "      <td>Usaquén</td>\n",
       "      <td>22</td>\n",
       "      <td>1</td>\n",
       "      <td>F</td>\n",
       "      <td>Importado</td>\n",
       "      <td>Casa</td>\n",
       "      <td>Recuperado</td>\n",
       "    </tr>\n",
       "    <tr>\n",
       "      <td>2</td>\n",
       "      <td>3</td>\n",
       "      <td>2020-03-07</td>\n",
       "      <td>2020-03-10</td>\n",
       "      <td>Bogotá</td>\n",
       "      <td>Engativá</td>\n",
       "      <td>28</td>\n",
       "      <td>1</td>\n",
       "      <td>F</td>\n",
       "      <td>Importado</td>\n",
       "      <td>Casa</td>\n",
       "      <td>Recuperado</td>\n",
       "    </tr>\n",
       "    <tr>\n",
       "      <td>3</td>\n",
       "      <td>4</td>\n",
       "      <td>2020-03-06</td>\n",
       "      <td>2020-03-12</td>\n",
       "      <td>Bogotá</td>\n",
       "      <td>Fontibón</td>\n",
       "      <td>36</td>\n",
       "      <td>1</td>\n",
       "      <td>F</td>\n",
       "      <td>Importado</td>\n",
       "      <td>Casa</td>\n",
       "      <td>Recuperado</td>\n",
       "    </tr>\n",
       "    <tr>\n",
       "      <td>4</td>\n",
       "      <td>5</td>\n",
       "      <td>2020-03-06</td>\n",
       "      <td>2020-03-12</td>\n",
       "      <td>Bogotá</td>\n",
       "      <td>Kennedy</td>\n",
       "      <td>42</td>\n",
       "      <td>1</td>\n",
       "      <td>F</td>\n",
       "      <td>Importado</td>\n",
       "      <td>Casa</td>\n",
       "      <td>Recuperado</td>\n",
       "    </tr>\n",
       "  </tbody>\n",
       "</table>\n",
       "</div>"
      ],
      "text/plain": [
       "   ID Fecha de Inicio de Síntomas Fecha de diagnóstico Ciudad de residencia  \\\n",
       "0   1                  2020-02-26           2020-03-06               Bogotá   \n",
       "1   2                  2020-03-04           2020-03-10               Bogotá   \n",
       "2   3                  2020-03-07           2020-03-10               Bogotá   \n",
       "3   4                  2020-03-06           2020-03-12               Bogotá   \n",
       "4   5                  2020-03-06           2020-03-12               Bogotá   \n",
       "\n",
       "  Localidad de residencia  Edad  Unidad de medida de la edad Sexo  \\\n",
       "0                 Usaquén    19                            1    F   \n",
       "1                 Usaquén    22                            1    F   \n",
       "2                Engativá    28                            1    F   \n",
       "3                Fontibón    36                            1    F   \n",
       "4                 Kennedy    42                            1    F   \n",
       "\n",
       "  Tipo de caso Ubicación      Estado  \n",
       "0    Importado      Casa  Recuperado  \n",
       "1    Importado      Casa  Recuperado  \n",
       "2    Importado      Casa  Recuperado  \n",
       "3    Importado      Casa  Recuperado  \n",
       "4    Importado      Casa  Recuperado  "
      ]
     },
     "execution_count": 1,
     "metadata": {},
     "output_type": "execute_result"
    }
   ],
   "source": [
    "import numpy as np\n",
    "import pandas as pd\n",
    "import matplotlib.pyplot as plt\n",
    "from sklearn import linear_model\n",
    "from sklearn import model_selection\n",
    "from sklearn.metrics import classification_report\n",
    "from sklearn.metrics import confusion_matrix\n",
    "from sklearn.metrics import accuracy_score\n",
    "import seaborn as sns\n",
    "%matplotlib inline\n",
    "\n",
    "virus = pd.read_excel('C:/Users/lldiazr/Documents/EJERCICIO/COVID_BOGOTA.xlsx', index_col=None)\n",
    "virus.head()"
   ]
  },
  {
   "cell_type": "code",
   "execution_count": 2,
   "metadata": {},
   "outputs": [
    {
     "data": {
      "text/html": [
       "<div>\n",
       "<style scoped>\n",
       "    .dataframe tbody tr th:only-of-type {\n",
       "        vertical-align: middle;\n",
       "    }\n",
       "\n",
       "    .dataframe tbody tr th {\n",
       "        vertical-align: top;\n",
       "    }\n",
       "\n",
       "    .dataframe thead th {\n",
       "        text-align: right;\n",
       "    }\n",
       "</style>\n",
       "<table border=\"1\" class=\"dataframe\">\n",
       "  <thead>\n",
       "    <tr style=\"text-align: right;\">\n",
       "      <th></th>\n",
       "      <th>ID</th>\n",
       "      <th>Edad</th>\n",
       "      <th>Unidad de medida de la edad</th>\n",
       "    </tr>\n",
       "  </thead>\n",
       "  <tbody>\n",
       "    <tr>\n",
       "      <td>count</td>\n",
       "      <td>227979.000000</td>\n",
       "      <td>227979.000000</td>\n",
       "      <td>227979.000000</td>\n",
       "    </tr>\n",
       "    <tr>\n",
       "      <td>mean</td>\n",
       "      <td>113990.000000</td>\n",
       "      <td>39.152382</td>\n",
       "      <td>1.005321</td>\n",
       "    </tr>\n",
       "    <tr>\n",
       "      <td>std</td>\n",
       "      <td>65812.012847</td>\n",
       "      <td>18.136015</td>\n",
       "      <td>0.079325</td>\n",
       "    </tr>\n",
       "    <tr>\n",
       "      <td>min</td>\n",
       "      <td>1.000000</td>\n",
       "      <td>1.000000</td>\n",
       "      <td>1.000000</td>\n",
       "    </tr>\n",
       "    <tr>\n",
       "      <td>25%</td>\n",
       "      <td>56995.500000</td>\n",
       "      <td>26.000000</td>\n",
       "      <td>1.000000</td>\n",
       "    </tr>\n",
       "    <tr>\n",
       "      <td>50%</td>\n",
       "      <td>113990.000000</td>\n",
       "      <td>37.000000</td>\n",
       "      <td>1.000000</td>\n",
       "    </tr>\n",
       "    <tr>\n",
       "      <td>75%</td>\n",
       "      <td>170984.500000</td>\n",
       "      <td>51.000000</td>\n",
       "      <td>1.000000</td>\n",
       "    </tr>\n",
       "    <tr>\n",
       "      <td>max</td>\n",
       "      <td>227979.000000</td>\n",
       "      <td>104.000000</td>\n",
       "      <td>3.000000</td>\n",
       "    </tr>\n",
       "  </tbody>\n",
       "</table>\n",
       "</div>"
      ],
      "text/plain": [
       "                  ID           Edad  Unidad de medida de la edad\n",
       "count  227979.000000  227979.000000                227979.000000\n",
       "mean   113990.000000      39.152382                     1.005321\n",
       "std     65812.012847      18.136015                     0.079325\n",
       "min         1.000000       1.000000                     1.000000\n",
       "25%     56995.500000      26.000000                     1.000000\n",
       "50%    113990.000000      37.000000                     1.000000\n",
       "75%    170984.500000      51.000000                     1.000000\n",
       "max    227979.000000     104.000000                     3.000000"
      ]
     },
     "execution_count": 2,
     "metadata": {},
     "output_type": "execute_result"
    }
   ],
   "source": [
    "virus.describe()"
   ]
  },
  {
   "cell_type": "code",
   "execution_count": 3,
   "metadata": {},
   "outputs": [
    {
     "data": {
      "text/html": [
       "<div>\n",
       "<style scoped>\n",
       "    .dataframe tbody tr th:only-of-type {\n",
       "        vertical-align: middle;\n",
       "    }\n",
       "\n",
       "    .dataframe tbody tr th {\n",
       "        vertical-align: top;\n",
       "    }\n",
       "\n",
       "    .dataframe thead th {\n",
       "        text-align: right;\n",
       "    }\n",
       "</style>\n",
       "<table border=\"1\" class=\"dataframe\">\n",
       "  <thead>\n",
       "    <tr style=\"text-align: right;\">\n",
       "      <th></th>\n",
       "      <th>Unidad de medida de la edad</th>\n",
       "    </tr>\n",
       "    <tr>\n",
       "      <th>Sexo</th>\n",
       "      <th></th>\n",
       "    </tr>\n",
       "  </thead>\n",
       "  <tbody>\n",
       "    <tr>\n",
       "      <td>F</td>\n",
       "      <td>1.004750</td>\n",
       "    </tr>\n",
       "    <tr>\n",
       "      <td>M</td>\n",
       "      <td>1.005909</td>\n",
       "    </tr>\n",
       "  </tbody>\n",
       "</table>\n",
       "</div>"
      ],
      "text/plain": [
       "      Unidad de medida de la edad\n",
       "Sexo                             \n",
       "F                        1.004750\n",
       "M                        1.005909"
      ]
     },
     "execution_count": 3,
     "metadata": {},
     "output_type": "execute_result"
    }
   ],
   "source": [
    "x=virus.iloc[:, 6:8]\n",
    "# Datos agrupados por sexo\n",
    "By_Sexo = x.groupby('Sexo')\n",
    "# Regresa la media de cada columna numérica por sexo\n",
    "By_Sexo.mean()"
   ]
  },
  {
   "cell_type": "code",
   "execution_count": 4,
   "metadata": {},
   "outputs": [
    {
     "data": {
      "image/png": "[encoded data removed]",
      "text/plain": [
       "<Figure size 432x288 with 1 Axes>"
      ]
     },
     "metadata": {
      "needs_background": "light"
     },
     "output_type": "display_data"
    }
   ],
   "source": [
    "# Gráfico de barras de Localidades\n",
    "plot = virus['Localidad de residencia'].value_counts().plot(kind='bar',\n",
    "                                            title='No. contagios por Localidad')"
   ]
  },
  {
   "cell_type": "code",
   "execution_count": 5,
   "metadata": {},
   "outputs": [
    {
     "data": {
      "image/png": "[encoded data removed]",
      "text/plain": [
       "<Figure size 432x288 with 1 Axes>"
      ]
     },
     "metadata": {
      "needs_background": "light"
     },
     "output_type": "display_data"
    }
   ],
   "source": [
    "# Gráfico de barras de Localidades\n",
    "plot = virus['Estado'].value_counts().plot(kind='bar',\n",
    "                                            title='No. contagios por Estado')"
   ]
  },
  {
   "cell_type": "code",
   "execution_count": 6,
   "metadata": {
    "scrolled": true
   },
   "outputs": [],
   "source": [
    "virus = virus[virus.Estado != 'Leve']\n",
    "virus = virus[virus.Estado != 'Fallecido (No aplica, No causa Directa)']"
   ]
  },
  {
   "cell_type": "code",
   "execution_count": 7,
   "metadata": {},
   "outputs": [],
   "source": [
    "virus['Estado2'] = virus['Estado'].replace('Recuperado',0).replace(['Fallecido','Grave','Moderado'],1)"
   ]
  },
  {
   "cell_type": "code",
   "execution_count": 8,
   "metadata": {},
   "outputs": [
    {
     "data": {
      "image/png": "[encoded data removed]",
      "text/plain": [
       "<Figure size 432x288 with 1 Axes>"
      ]
     },
     "metadata": {
      "needs_background": "light"
     },
     "output_type": "display_data"
    }
   ],
   "source": [
    "# Gráfico de barras de Localidades\n",
    "plot = virus['Estado2'].value_counts().plot(kind='bar',\n",
    "                                            title='No. contagios por Estado_Num')"
   ]
  },
  {
   "cell_type": "code",
   "execution_count": 9,
   "metadata": {},
   "outputs": [
    {
     "data": {
      "image/png": "[encoded data removed]",
      "text/plain": [
       "<Figure size 432x288 with 1 Axes>"
      ]
     },
     "metadata": {
      "needs_background": "light"
     },
     "output_type": "display_data"
    }
   ],
   "source": [
    "# Gráfico de barras de Localidades\n",
    "plot = virus['Unidad de medida de la edad'].value_counts().plot(kind='bar',\n",
    "                                            title='Unidad medida edad')"
   ]
  },
  {
   "cell_type": "code",
   "execution_count": 10,
   "metadata": {},
   "outputs": [],
   "source": [
    "#Existen individuos con edades registradas en 2 (meses) y otros en 3 (días), estos se eliminan \n",
    "virus = virus.drop(virus[virus['Unidad de medida de la edad']>1].index)   "
   ]
  },
  {
   "cell_type": "code",
   "execution_count": 11,
   "metadata": {},
   "outputs": [
    {
     "data": {
      "text/html": [
       "<div>\n",
       "<style scoped>\n",
       "    .dataframe tbody tr th:only-of-type {\n",
       "        vertical-align: middle;\n",
       "    }\n",
       "\n",
       "    .dataframe tbody tr th {\n",
       "        vertical-align: top;\n",
       "    }\n",
       "\n",
       "    .dataframe thead th {\n",
       "        text-align: right;\n",
       "    }\n",
       "</style>\n",
       "<table border=\"1\" class=\"dataframe\">\n",
       "  <thead>\n",
       "    <tr style=\"text-align: right;\">\n",
       "      <th></th>\n",
       "      <th>ID</th>\n",
       "      <th>Fecha de Inicio de Síntomas</th>\n",
       "      <th>Fecha de diagnóstico</th>\n",
       "      <th>Ciudad de residencia</th>\n",
       "      <th>Localidad de residencia</th>\n",
       "      <th>Edad</th>\n",
       "      <th>Unidad de medida de la edad</th>\n",
       "      <th>Sexo</th>\n",
       "      <th>Tipo de caso</th>\n",
       "      <th>Ubicación</th>\n",
       "      <th>Estado</th>\n",
       "      <th>Estado2</th>\n",
       "    </tr>\n",
       "  </thead>\n",
       "  <tbody>\n",
       "    <tr>\n",
       "      <td>0</td>\n",
       "      <td>1</td>\n",
       "      <td>2020-02-26</td>\n",
       "      <td>2020-03-06</td>\n",
       "      <td>Bogotá</td>\n",
       "      <td>Usaquén</td>\n",
       "      <td>19</td>\n",
       "      <td>1</td>\n",
       "      <td>F</td>\n",
       "      <td>Importado</td>\n",
       "      <td>Casa</td>\n",
       "      <td>Recuperado</td>\n",
       "      <td>0</td>\n",
       "    </tr>\n",
       "    <tr>\n",
       "      <td>1</td>\n",
       "      <td>2</td>\n",
       "      <td>2020-03-04</td>\n",
       "      <td>2020-03-10</td>\n",
       "      <td>Bogotá</td>\n",
       "      <td>Usaquén</td>\n",
       "      <td>22</td>\n",
       "      <td>1</td>\n",
       "      <td>F</td>\n",
       "      <td>Importado</td>\n",
       "      <td>Casa</td>\n",
       "      <td>Recuperado</td>\n",
       "      <td>0</td>\n",
       "    </tr>\n",
       "    <tr>\n",
       "      <td>2</td>\n",
       "      <td>3</td>\n",
       "      <td>2020-03-07</td>\n",
       "      <td>2020-03-10</td>\n",
       "      <td>Bogotá</td>\n",
       "      <td>Engativá</td>\n",
       "      <td>28</td>\n",
       "      <td>1</td>\n",
       "      <td>F</td>\n",
       "      <td>Importado</td>\n",
       "      <td>Casa</td>\n",
       "      <td>Recuperado</td>\n",
       "      <td>0</td>\n",
       "    </tr>\n",
       "    <tr>\n",
       "      <td>3</td>\n",
       "      <td>4</td>\n",
       "      <td>2020-03-06</td>\n",
       "      <td>2020-03-12</td>\n",
       "      <td>Bogotá</td>\n",
       "      <td>Fontibón</td>\n",
       "      <td>36</td>\n",
       "      <td>1</td>\n",
       "      <td>F</td>\n",
       "      <td>Importado</td>\n",
       "      <td>Casa</td>\n",
       "      <td>Recuperado</td>\n",
       "      <td>0</td>\n",
       "    </tr>\n",
       "    <tr>\n",
       "      <td>4</td>\n",
       "      <td>5</td>\n",
       "      <td>2020-03-06</td>\n",
       "      <td>2020-03-12</td>\n",
       "      <td>Bogotá</td>\n",
       "      <td>Kennedy</td>\n",
       "      <td>42</td>\n",
       "      <td>1</td>\n",
       "      <td>F</td>\n",
       "      <td>Importado</td>\n",
       "      <td>Casa</td>\n",
       "      <td>Recuperado</td>\n",
       "      <td>0</td>\n",
       "    </tr>\n",
       "  </tbody>\n",
       "</table>\n",
       "</div>"
      ],
      "text/plain": [
       "   ID Fecha de Inicio de Síntomas Fecha de diagnóstico Ciudad de residencia  \\\n",
       "0   1                  2020-02-26           2020-03-06               Bogotá   \n",
       "1   2                  2020-03-04           2020-03-10               Bogotá   \n",
       "2   3                  2020-03-07           2020-03-10               Bogotá   \n",
       "3   4                  2020-03-06           2020-03-12               Bogotá   \n",
       "4   5                  2020-03-06           2020-03-12               Bogotá   \n",
       "\n",
       "  Localidad de residencia  Edad  Unidad de medida de la edad Sexo  \\\n",
       "0                 Usaquén    19                            1    F   \n",
       "1                 Usaquén    22                            1    F   \n",
       "2                Engativá    28                            1    F   \n",
       "3                Fontibón    36                            1    F   \n",
       "4                 Kennedy    42                            1    F   \n",
       "\n",
       "  Tipo de caso Ubicación      Estado  Estado2  \n",
       "0    Importado      Casa  Recuperado        0  \n",
       "1    Importado      Casa  Recuperado        0  \n",
       "2    Importado      Casa  Recuperado        0  \n",
       "3    Importado      Casa  Recuperado        0  \n",
       "4    Importado      Casa  Recuperado        0  "
      ]
     },
     "execution_count": 11,
     "metadata": {},
     "output_type": "execute_result"
    }
   ],
   "source": [
    "virus.head()"
   ]
  },
  {
   "cell_type": "code",
   "execution_count": 12,
   "metadata": {},
   "outputs": [
    {
     "data": {
      "text/html": [
       "<div>\n",
       "<style scoped>\n",
       "    .dataframe tbody tr th:only-of-type {\n",
       "        vertical-align: middle;\n",
       "    }\n",
       "\n",
       "    .dataframe tbody tr th {\n",
       "        vertical-align: top;\n",
       "    }\n",
       "\n",
       "    .dataframe thead th {\n",
       "        text-align: right;\n",
       "    }\n",
       "</style>\n",
       "<table border=\"1\" class=\"dataframe\">\n",
       "  <thead>\n",
       "    <tr style=\"text-align: right;\">\n",
       "      <th></th>\n",
       "      <th>ID</th>\n",
       "      <th>Fecha de Inicio de Síntomas</th>\n",
       "      <th>Fecha de diagnóstico</th>\n",
       "      <th>Ciudad de residencia</th>\n",
       "      <th>Localidad de residencia</th>\n",
       "      <th>Edad</th>\n",
       "      <th>Unidad de medida de la edad</th>\n",
       "      <th>Sexo</th>\n",
       "      <th>Tipo de caso</th>\n",
       "      <th>Ubicación</th>\n",
       "      <th>Estado</th>\n",
       "      <th>Estado2</th>\n",
       "    </tr>\n",
       "  </thead>\n",
       "  <tbody>\n",
       "    <tr>\n",
       "      <td>62</td>\n",
       "      <td>63</td>\n",
       "      <td>2020-03-10</td>\n",
       "      <td>2020-03-20</td>\n",
       "      <td>Bogotá</td>\n",
       "      <td>Usaquén</td>\n",
       "      <td>64</td>\n",
       "      <td>1</td>\n",
       "      <td>M</td>\n",
       "      <td>Importado</td>\n",
       "      <td>Fallecido</td>\n",
       "      <td>Fallecido</td>\n",
       "      <td>1</td>\n",
       "    </tr>\n",
       "    <tr>\n",
       "      <td>63</td>\n",
       "      <td>64</td>\n",
       "      <td>2020-03-18</td>\n",
       "      <td>2020-03-20</td>\n",
       "      <td>Bogotá</td>\n",
       "      <td>Puente Aranda</td>\n",
       "      <td>53</td>\n",
       "      <td>1</td>\n",
       "      <td>F</td>\n",
       "      <td>Desconocido</td>\n",
       "      <td>Fallecido</td>\n",
       "      <td>Fallecido</td>\n",
       "      <td>1</td>\n",
       "    </tr>\n",
       "    <tr>\n",
       "      <td>88</td>\n",
       "      <td>89</td>\n",
       "      <td>2020-03-11</td>\n",
       "      <td>2020-03-21</td>\n",
       "      <td>Bogotá</td>\n",
       "      <td>Suba</td>\n",
       "      <td>59</td>\n",
       "      <td>1</td>\n",
       "      <td>F</td>\n",
       "      <td>Importado</td>\n",
       "      <td>Fallecido</td>\n",
       "      <td>Fallecido</td>\n",
       "      <td>1</td>\n",
       "    </tr>\n",
       "    <tr>\n",
       "      <td>100</td>\n",
       "      <td>101</td>\n",
       "      <td>2020-03-10</td>\n",
       "      <td>2020-03-22</td>\n",
       "      <td>Bogotá</td>\n",
       "      <td>Kennedy</td>\n",
       "      <td>76</td>\n",
       "      <td>1</td>\n",
       "      <td>M</td>\n",
       "      <td>Desconocido</td>\n",
       "      <td>Fallecido</td>\n",
       "      <td>Fallecido</td>\n",
       "      <td>1</td>\n",
       "    </tr>\n",
       "    <tr>\n",
       "      <td>111</td>\n",
       "      <td>112</td>\n",
       "      <td>2020-03-10</td>\n",
       "      <td>2020-03-22</td>\n",
       "      <td>Bogotá</td>\n",
       "      <td>Usaquén</td>\n",
       "      <td>63</td>\n",
       "      <td>1</td>\n",
       "      <td>M</td>\n",
       "      <td>Relacionado</td>\n",
       "      <td>Fallecido</td>\n",
       "      <td>Fallecido</td>\n",
       "      <td>1</td>\n",
       "    </tr>\n",
       "  </tbody>\n",
       "</table>\n",
       "</div>"
      ],
      "text/plain": [
       "      ID Fecha de Inicio de Síntomas Fecha de diagnóstico  \\\n",
       "62    63                  2020-03-10           2020-03-20   \n",
       "63    64                  2020-03-18           2020-03-20   \n",
       "88    89                  2020-03-11           2020-03-21   \n",
       "100  101                  2020-03-10           2020-03-22   \n",
       "111  112                  2020-03-10           2020-03-22   \n",
       "\n",
       "    Ciudad de residencia Localidad de residencia  Edad  \\\n",
       "62                Bogotá                 Usaquén    64   \n",
       "63                Bogotá           Puente Aranda    53   \n",
       "88                Bogotá                    Suba    59   \n",
       "100               Bogotá                 Kennedy    76   \n",
       "111               Bogotá                 Usaquén    63   \n",
       "\n",
       "     Unidad de medida de la edad Sexo Tipo de caso  Ubicación     Estado  \\\n",
       "62                             1    M    Importado  Fallecido  Fallecido   \n",
       "63                             1    F  Desconocido  Fallecido  Fallecido   \n",
       "88                             1    F    Importado  Fallecido  Fallecido   \n",
       "100                            1    M  Desconocido  Fallecido  Fallecido   \n",
       "111                            1    M  Relacionado  Fallecido  Fallecido   \n",
       "\n",
       "     Estado2  \n",
       "62         1  \n",
       "63         1  \n",
       "88         1  \n",
       "100        1  \n",
       "111        1  "
      ]
     },
     "execution_count": 12,
     "metadata": {},
     "output_type": "execute_result"
    }
   ],
   "source": [
    "recupera =  virus[virus.Estado2 != 1]\n",
    "norecupera =  virus[virus.Estado2 != 0]\n",
    "\n",
    "norecupera.head()"
   ]
  },
  {
   "cell_type": "code",
   "execution_count": 13,
   "metadata": {},
   "outputs": [],
   "source": [
    "muestra = recupera.sample(n=40000)"
   ]
  },
  {
   "cell_type": "code",
   "execution_count": 14,
   "metadata": {},
   "outputs": [
    {
     "data": {
      "text/plain": [
       "ID                             52662\n",
       "Fecha de Inicio de Síntomas    42658\n",
       "Fecha de diagnóstico           52662\n",
       "Ciudad de residencia           52662\n",
       "Localidad de residencia        52662\n",
       "Edad                           52662\n",
       "Unidad de medida de la edad    52662\n",
       "Sexo                           52662\n",
       "Tipo de caso                   52662\n",
       "Ubicación                      52662\n",
       "Estado                         52662\n",
       "Estado2                        52662\n",
       "dtype: int64"
      ]
     },
     "execution_count": 14,
     "metadata": {},
     "output_type": "execute_result"
    }
   ],
   "source": [
    "df = pd.concat([norecupera,muestra])\n",
    "df.count()"
   ]
  },
  {
   "cell_type": "code",
   "execution_count": 15,
   "metadata": {},
   "outputs": [
    {
     "data": {
      "image/png": "[encoded data removed]",
      "text/plain": [
       "<Figure size 432x288 with 1 Axes>"
      ]
     },
     "metadata": {
      "needs_background": "light"
     },
     "output_type": "display_data"
    }
   ],
   "source": [
    "# Gráfico de barras de Localidades\n",
    "plot = df['Estado2'].value_counts().plot(kind='bar',\n",
    "                                            title='No. contagios por Estado_Num')"
   ]
  },
  {
   "cell_type": "code",
   "execution_count": 16,
   "metadata": {},
   "outputs": [],
   "source": [
    "df.drop(['Fecha de Inicio de Síntomas', 'Fecha de diagnóstico','Ciudad de residencia','Unidad de medida de la edad','Estado'],axis = 'columns', inplace=True)"
   ]
  },
  {
   "cell_type": "code",
   "execution_count": 17,
   "metadata": {},
   "outputs": [],
   "source": [
    "cols_categoricas = ['Sexo','Tipo de caso','Ubicación','Localidad de residencia']"
   ]
  },
  {
   "cell_type": "code",
   "execution_count": 18,
   "metadata": {},
   "outputs": [],
   "source": [
    "cat_df = df.select_dtypes(include=['object'])\n",
    "cols_categoricas_lst = cat_df.columns"
   ]
  },
  {
   "cell_type": "code",
   "execution_count": 19,
   "metadata": {},
   "outputs": [],
   "source": [
    "one_hot = pd.get_dummies(data=df, columns=cols_categoricas_lst, prefix = cols_categoricas, prefix_sep = '_' )"
   ]
  },
  {
   "cell_type": "code",
   "execution_count": 20,
   "metadata": {},
   "outputs": [],
   "source": [
    "df_num = df.drop(cols_categoricas, axis=1)\n",
    "df_new = pd.concat([df_num, one_hot], axis = 1)"
   ]
  },
  {
   "cell_type": "code",
   "execution_count": 21,
   "metadata": {},
   "outputs": [
    {
     "data": {
      "text/html": [
       "<div>\n",
       "<style scoped>\n",
       "    .dataframe tbody tr th:only-of-type {\n",
       "        vertical-align: middle;\n",
       "    }\n",
       "\n",
       "    .dataframe tbody tr th {\n",
       "        vertical-align: top;\n",
       "    }\n",
       "\n",
       "    .dataframe thead th {\n",
       "        text-align: right;\n",
       "    }\n",
       "</style>\n",
       "<table border=\"1\" class=\"dataframe\">\n",
       "  <thead>\n",
       "    <tr style=\"text-align: right;\">\n",
       "      <th></th>\n",
       "      <th>ID</th>\n",
       "      <th>Edad</th>\n",
       "      <th>Estado2</th>\n",
       "      <th>Sexo_Antonio Nariño</th>\n",
       "      <th>Sexo_Barrios Unidos</th>\n",
       "      <th>Sexo_Bosa</th>\n",
       "      <th>Sexo_Chapinero</th>\n",
       "      <th>Sexo_Ciudad Bolívar</th>\n",
       "      <th>Sexo_Engativá</th>\n",
       "      <th>Sexo_Fontibón</th>\n",
       "      <th>...</th>\n",
       "      <th>Tipo de caso_F</th>\n",
       "      <th>Tipo de caso_M</th>\n",
       "      <th>Ubicación_Desconocido</th>\n",
       "      <th>Ubicación_En estudio</th>\n",
       "      <th>Ubicación_Importado</th>\n",
       "      <th>Ubicación_Relacionado</th>\n",
       "      <th>Localidad de residencia_Casa</th>\n",
       "      <th>Localidad de residencia_Fallecido</th>\n",
       "      <th>Localidad de residencia_Hospital</th>\n",
       "      <th>Localidad de residencia_Hospital UCI</th>\n",
       "    </tr>\n",
       "  </thead>\n",
       "  <tbody>\n",
       "    <tr>\n",
       "      <td>62</td>\n",
       "      <td>63</td>\n",
       "      <td>64</td>\n",
       "      <td>1</td>\n",
       "      <td>0</td>\n",
       "      <td>0</td>\n",
       "      <td>0</td>\n",
       "      <td>0</td>\n",
       "      <td>0</td>\n",
       "      <td>0</td>\n",
       "      <td>0</td>\n",
       "      <td>...</td>\n",
       "      <td>0</td>\n",
       "      <td>1</td>\n",
       "      <td>0</td>\n",
       "      <td>0</td>\n",
       "      <td>1</td>\n",
       "      <td>0</td>\n",
       "      <td>0</td>\n",
       "      <td>1</td>\n",
       "      <td>0</td>\n",
       "      <td>0</td>\n",
       "    </tr>\n",
       "    <tr>\n",
       "      <td>63</td>\n",
       "      <td>64</td>\n",
       "      <td>53</td>\n",
       "      <td>1</td>\n",
       "      <td>0</td>\n",
       "      <td>0</td>\n",
       "      <td>0</td>\n",
       "      <td>0</td>\n",
       "      <td>0</td>\n",
       "      <td>0</td>\n",
       "      <td>0</td>\n",
       "      <td>...</td>\n",
       "      <td>1</td>\n",
       "      <td>0</td>\n",
       "      <td>1</td>\n",
       "      <td>0</td>\n",
       "      <td>0</td>\n",
       "      <td>0</td>\n",
       "      <td>0</td>\n",
       "      <td>1</td>\n",
       "      <td>0</td>\n",
       "      <td>0</td>\n",
       "    </tr>\n",
       "    <tr>\n",
       "      <td>88</td>\n",
       "      <td>89</td>\n",
       "      <td>59</td>\n",
       "      <td>1</td>\n",
       "      <td>0</td>\n",
       "      <td>0</td>\n",
       "      <td>0</td>\n",
       "      <td>0</td>\n",
       "      <td>0</td>\n",
       "      <td>0</td>\n",
       "      <td>0</td>\n",
       "      <td>...</td>\n",
       "      <td>1</td>\n",
       "      <td>0</td>\n",
       "      <td>0</td>\n",
       "      <td>0</td>\n",
       "      <td>1</td>\n",
       "      <td>0</td>\n",
       "      <td>0</td>\n",
       "      <td>1</td>\n",
       "      <td>0</td>\n",
       "      <td>0</td>\n",
       "    </tr>\n",
       "    <tr>\n",
       "      <td>100</td>\n",
       "      <td>101</td>\n",
       "      <td>76</td>\n",
       "      <td>1</td>\n",
       "      <td>0</td>\n",
       "      <td>0</td>\n",
       "      <td>0</td>\n",
       "      <td>0</td>\n",
       "      <td>0</td>\n",
       "      <td>0</td>\n",
       "      <td>0</td>\n",
       "      <td>...</td>\n",
       "      <td>0</td>\n",
       "      <td>1</td>\n",
       "      <td>1</td>\n",
       "      <td>0</td>\n",
       "      <td>0</td>\n",
       "      <td>0</td>\n",
       "      <td>0</td>\n",
       "      <td>1</td>\n",
       "      <td>0</td>\n",
       "      <td>0</td>\n",
       "    </tr>\n",
       "    <tr>\n",
       "      <td>111</td>\n",
       "      <td>112</td>\n",
       "      <td>63</td>\n",
       "      <td>1</td>\n",
       "      <td>0</td>\n",
       "      <td>0</td>\n",
       "      <td>0</td>\n",
       "      <td>0</td>\n",
       "      <td>0</td>\n",
       "      <td>0</td>\n",
       "      <td>0</td>\n",
       "      <td>...</td>\n",
       "      <td>0</td>\n",
       "      <td>1</td>\n",
       "      <td>0</td>\n",
       "      <td>0</td>\n",
       "      <td>0</td>\n",
       "      <td>1</td>\n",
       "      <td>0</td>\n",
       "      <td>1</td>\n",
       "      <td>0</td>\n",
       "      <td>0</td>\n",
       "    </tr>\n",
       "    <tr>\n",
       "      <td>...</td>\n",
       "      <td>...</td>\n",
       "      <td>...</td>\n",
       "      <td>...</td>\n",
       "      <td>...</td>\n",
       "      <td>...</td>\n",
       "      <td>...</td>\n",
       "      <td>...</td>\n",
       "      <td>...</td>\n",
       "      <td>...</td>\n",
       "      <td>...</td>\n",
       "      <td>...</td>\n",
       "      <td>...</td>\n",
       "      <td>...</td>\n",
       "      <td>...</td>\n",
       "      <td>...</td>\n",
       "      <td>...</td>\n",
       "      <td>...</td>\n",
       "      <td>...</td>\n",
       "      <td>...</td>\n",
       "      <td>...</td>\n",
       "      <td>...</td>\n",
       "    </tr>\n",
       "    <tr>\n",
       "      <td>151771</td>\n",
       "      <td>151772</td>\n",
       "      <td>20</td>\n",
       "      <td>0</td>\n",
       "      <td>0</td>\n",
       "      <td>1</td>\n",
       "      <td>0</td>\n",
       "      <td>0</td>\n",
       "      <td>0</td>\n",
       "      <td>0</td>\n",
       "      <td>0</td>\n",
       "      <td>...</td>\n",
       "      <td>0</td>\n",
       "      <td>1</td>\n",
       "      <td>0</td>\n",
       "      <td>1</td>\n",
       "      <td>0</td>\n",
       "      <td>0</td>\n",
       "      <td>1</td>\n",
       "      <td>0</td>\n",
       "      <td>0</td>\n",
       "      <td>0</td>\n",
       "    </tr>\n",
       "    <tr>\n",
       "      <td>127836</td>\n",
       "      <td>127837</td>\n",
       "      <td>39</td>\n",
       "      <td>0</td>\n",
       "      <td>0</td>\n",
       "      <td>0</td>\n",
       "      <td>0</td>\n",
       "      <td>0</td>\n",
       "      <td>0</td>\n",
       "      <td>0</td>\n",
       "      <td>0</td>\n",
       "      <td>...</td>\n",
       "      <td>0</td>\n",
       "      <td>1</td>\n",
       "      <td>0</td>\n",
       "      <td>1</td>\n",
       "      <td>0</td>\n",
       "      <td>0</td>\n",
       "      <td>1</td>\n",
       "      <td>0</td>\n",
       "      <td>0</td>\n",
       "      <td>0</td>\n",
       "    </tr>\n",
       "    <tr>\n",
       "      <td>62890</td>\n",
       "      <td>62891</td>\n",
       "      <td>3</td>\n",
       "      <td>0</td>\n",
       "      <td>0</td>\n",
       "      <td>0</td>\n",
       "      <td>0</td>\n",
       "      <td>0</td>\n",
       "      <td>1</td>\n",
       "      <td>0</td>\n",
       "      <td>0</td>\n",
       "      <td>...</td>\n",
       "      <td>0</td>\n",
       "      <td>1</td>\n",
       "      <td>0</td>\n",
       "      <td>1</td>\n",
       "      <td>0</td>\n",
       "      <td>0</td>\n",
       "      <td>1</td>\n",
       "      <td>0</td>\n",
       "      <td>0</td>\n",
       "      <td>0</td>\n",
       "    </tr>\n",
       "    <tr>\n",
       "      <td>134108</td>\n",
       "      <td>134109</td>\n",
       "      <td>6</td>\n",
       "      <td>0</td>\n",
       "      <td>0</td>\n",
       "      <td>0</td>\n",
       "      <td>0</td>\n",
       "      <td>0</td>\n",
       "      <td>0</td>\n",
       "      <td>0</td>\n",
       "      <td>0</td>\n",
       "      <td>...</td>\n",
       "      <td>1</td>\n",
       "      <td>0</td>\n",
       "      <td>0</td>\n",
       "      <td>1</td>\n",
       "      <td>0</td>\n",
       "      <td>0</td>\n",
       "      <td>1</td>\n",
       "      <td>0</td>\n",
       "      <td>0</td>\n",
       "      <td>0</td>\n",
       "    </tr>\n",
       "    <tr>\n",
       "      <td>31581</td>\n",
       "      <td>31582</td>\n",
       "      <td>28</td>\n",
       "      <td>0</td>\n",
       "      <td>0</td>\n",
       "      <td>0</td>\n",
       "      <td>0</td>\n",
       "      <td>0</td>\n",
       "      <td>0</td>\n",
       "      <td>0</td>\n",
       "      <td>0</td>\n",
       "      <td>...</td>\n",
       "      <td>0</td>\n",
       "      <td>1</td>\n",
       "      <td>0</td>\n",
       "      <td>1</td>\n",
       "      <td>0</td>\n",
       "      <td>0</td>\n",
       "      <td>1</td>\n",
       "      <td>0</td>\n",
       "      <td>0</td>\n",
       "      <td>0</td>\n",
       "    </tr>\n",
       "  </tbody>\n",
       "</table>\n",
       "<p>52662 rows × 34 columns</p>\n",
       "</div>"
      ],
      "text/plain": [
       "            ID  Edad  Estado2  Sexo_Antonio Nariño  Sexo_Barrios Unidos  \\\n",
       "62          63    64        1                    0                    0   \n",
       "63          64    53        1                    0                    0   \n",
       "88          89    59        1                    0                    0   \n",
       "100        101    76        1                    0                    0   \n",
       "111        112    63        1                    0                    0   \n",
       "...        ...   ...      ...                  ...                  ...   \n",
       "151771  151772    20        0                    0                    1   \n",
       "127836  127837    39        0                    0                    0   \n",
       "62890    62891     3        0                    0                    0   \n",
       "134108  134109     6        0                    0                    0   \n",
       "31581    31582    28        0                    0                    0   \n",
       "\n",
       "        Sexo_Bosa  Sexo_Chapinero  Sexo_Ciudad Bolívar  Sexo_Engativá  \\\n",
       "62              0               0                    0              0   \n",
       "63              0               0                    0              0   \n",
       "88              0               0                    0              0   \n",
       "100             0               0                    0              0   \n",
       "111             0               0                    0              0   \n",
       "...           ...             ...                  ...            ...   \n",
       "151771          0               0                    0              0   \n",
       "127836          0               0                    0              0   \n",
       "62890           0               0                    1              0   \n",
       "134108          0               0                    0              0   \n",
       "31581           0               0                    0              0   \n",
       "\n",
       "        Sexo_Fontibón  ...  Tipo de caso_F  Tipo de caso_M  \\\n",
       "62                  0  ...               0               1   \n",
       "63                  0  ...               1               0   \n",
       "88                  0  ...               1               0   \n",
       "100                 0  ...               0               1   \n",
       "111                 0  ...               0               1   \n",
       "...               ...  ...             ...             ...   \n",
       "151771              0  ...               0               1   \n",
       "127836              0  ...               0               1   \n",
       "62890               0  ...               0               1   \n",
       "134108              0  ...               1               0   \n",
       "31581               0  ...               0               1   \n",
       "\n",
       "        Ubicación_Desconocido  Ubicación_En estudio  Ubicación_Importado  \\\n",
       "62                          0                     0                    1   \n",
       "63                          1                     0                    0   \n",
       "88                          0                     0                    1   \n",
       "100                         1                     0                    0   \n",
       "111                         0                     0                    0   \n",
       "...                       ...                   ...                  ...   \n",
       "151771                      0                     1                    0   \n",
       "127836                      0                     1                    0   \n",
       "62890                       0                     1                    0   \n",
       "134108                      0                     1                    0   \n",
       "31581                       0                     1                    0   \n",
       "\n",
       "        Ubicación_Relacionado  Localidad de residencia_Casa  \\\n",
       "62                          0                             0   \n",
       "63                          0                             0   \n",
       "88                          0                             0   \n",
       "100                         0                             0   \n",
       "111                         1                             0   \n",
       "...                       ...                           ...   \n",
       "151771                      0                             1   \n",
       "127836                      0                             1   \n",
       "62890                       0                             1   \n",
       "134108                      0                             1   \n",
       "31581                       0                             1   \n",
       "\n",
       "        Localidad de residencia_Fallecido  Localidad de residencia_Hospital  \\\n",
       "62                                      1                                 0   \n",
       "63                                      1                                 0   \n",
       "88                                      1                                 0   \n",
       "100                                     1                                 0   \n",
       "111                                     1                                 0   \n",
       "...                                   ...                               ...   \n",
       "151771                                  0                                 0   \n",
       "127836                                  0                                 0   \n",
       "62890                                   0                                 0   \n",
       "134108                                  0                                 0   \n",
       "31581                                   0                                 0   \n",
       "\n",
       "        Localidad de residencia_Hospital UCI  \n",
       "62                                         0  \n",
       "63                                         0  \n",
       "88                                         0  \n",
       "100                                        0  \n",
       "111                                        0  \n",
       "...                                      ...  \n",
       "151771                                     0  \n",
       "127836                                     0  \n",
       "62890                                      0  \n",
       "134108                                     0  \n",
       "31581                                      0  \n",
       "\n",
       "[52662 rows x 34 columns]"
      ]
     },
     "execution_count": 21,
     "metadata": {},
     "output_type": "execute_result"
    }
   ],
   "source": [
    "df_new = df_new.loc[:,~df_new.columns.duplicated()]\n",
    "df_new"
   ]
  },
  {
   "cell_type": "code",
   "execution_count": 22,
   "metadata": {},
   "outputs": [
    {
     "data": {
      "text/plain": [
       "(52662, 33)"
      ]
     },
     "execution_count": 22,
     "metadata": {},
     "output_type": "execute_result"
    }
   ],
   "source": [
    "X = np.array(df_new.drop(['Estado2'],1))\n",
    "y = np.array(df_new['Estado2'])\n",
    "X.shape"
   ]
  },
  {
   "cell_type": "code",
   "execution_count": 23,
   "metadata": {},
   "outputs": [
    {
     "data": {
      "text/plain": [
       "LogisticRegression(C=1.0, class_weight=None, dual=False, fit_intercept=True,\n",
       "                   intercept_scaling=1, l1_ratio=None, max_iter=100,\n",
       "                   multi_class='warn', n_jobs=None, penalty='l2',\n",
       "                   random_state=None, solver='warn', tol=0.0001, verbose=0,\n",
       "                   warm_start=False)"
      ]
     },
     "execution_count": 23,
     "metadata": {},
     "output_type": "execute_result"
    }
   ],
   "source": [
    "from warnings import simplefilter\n",
    "# ignore all future warnings\n",
    "simplefilter(action='ignore', category=FutureWarning)\n",
    "  \n",
    "model = linear_model.LogisticRegression()\n",
    "model.fit(X,y)"
   ]
  },
  {
   "cell_type": "code",
   "execution_count": 24,
   "metadata": {},
   "outputs": [
    {
     "name": "stdout",
     "output_type": "stream",
     "text": [
      "[0 0 0 ... 0 0 0]\n"
     ]
    }
   ],
   "source": [
    "predictions = model.predict(X)\n",
    "print(predictions)"
   ]
  },
  {
   "cell_type": "code",
   "execution_count": 25,
   "metadata": {},
   "outputs": [
    {
     "data": {
      "text/plain": [
       "0.7595609737571684"
      ]
     },
     "execution_count": 25,
     "metadata": {},
     "output_type": "execute_result"
    }
   ],
   "source": [
    "model.score(X,y)"
   ]
  },
  {
   "cell_type": "code",
   "execution_count": 26,
   "metadata": {},
   "outputs": [],
   "source": [
    "validation_size = 0.3\n",
    "seed = 7\n",
    "X_train, X_validation, Y_train, Y_validation=model_selection.train_test_split(X,y, test_size=validation_size,random_state=seed)"
   ]
  },
  {
   "cell_type": "code",
   "execution_count": 27,
   "metadata": {},
   "outputs": [],
   "source": [
    "kfold = model_selection.KFold(n_splits=10, random_state=seed)\n",
    "accuracy = model_selection.cross_val_score(model, X_train, Y_train, cv=10)"
   ]
  },
  {
   "cell_type": "code",
   "execution_count": 28,
   "metadata": {},
   "outputs": [
    {
     "data": {
      "text/plain": [
       "0.7476329519873098"
      ]
     },
     "execution_count": 28,
     "metadata": {},
     "output_type": "execute_result"
    }
   ],
   "source": [
    "accuracy.mean()"
   ]
  },
  {
   "cell_type": "code",
   "execution_count": 29,
   "metadata": {},
   "outputs": [
    {
     "name": "stdout",
     "output_type": "stream",
     "text": [
      "0.765111715931388\n"
     ]
    }
   ],
   "source": [
    "predictions = model.predict(X_validation)\n",
    "print(accuracy_score(Y_validation, predictions))"
   ]
  },
  {
   "cell_type": "code",
   "execution_count": 30,
   "metadata": {},
   "outputs": [
    {
     "name": "stdout",
     "output_type": "stream",
     "text": [
      "              precision    recall  f1-score   support\n",
      "\n",
      "           0       0.77      1.00      0.87     12088\n",
      "           1       0.00      0.00      0.00      3711\n",
      "\n",
      "    accuracy                           0.77     15799\n",
      "   macro avg       0.38      0.50      0.43     15799\n",
      "weighted avg       0.59      0.77      0.66     15799\n",
      "\n"
     ]
    },
    {
     "name": "stderr",
     "output_type": "stream",
     "text": [
      "C:\\ProgramData\\Anaconda3\\lib\\site-packages\\sklearn\\metrics\\classification.py:1437: UndefinedMetricWarning: Precision and F-score are ill-defined and being set to 0.0 in labels with no predicted samples.\n",
      "  'precision', 'predicted', average, warn_for)\n"
     ]
    }
   ],
   "source": [
    "print(classification_report(Y_validation,predictions))"
   ]
  }
 ],
 "metadata": {
  "kernelspec": {
   "display_name": "Python 3",
   "language": "python",
   "name": "python3"
  },
  "language_info": {
   "codemirror_mode": {
    "name": "ipython",
    "version": 3
   },
   "file_extension": ".py",
   "mimetype": "text/x-python",
   "name": "python",
   "nbconvert_exporter": "python",
   "pygments_lexer": "ipython3",
   "version": "3.7.4"
  }
 },
 "nbformat": 4,
 "nbformat_minor": 2
}
